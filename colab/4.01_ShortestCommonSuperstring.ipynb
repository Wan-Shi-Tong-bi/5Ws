{
 "cells": [
  {
   "cell_type": "markdown",
   "metadata": {},
   "source": [
    "# Genome Assemly\n",
    "## Shortest Common Superstring\n",
    "Use Brute Force Algorithm to solve SCS Problem\n",
    "Loop over all possible iterations of the substrings. Return the shortest of these solutions.\n",
    "Be aware of the runtime. This approach is NP-complete."
   ]
  },
  {
   "cell_type": "code",
   "execution_count": 6,
   "metadata": {
    "collapsed": true
   },
   "outputs": [],
   "source": [
    "def overlap(a, b, min_length=3):\n",
    "    \"\"\" Return length of longest suffix of 'a' matching\n",
    "        a prefix of 'b' that is at least 'min_length'\n",
    "        characters long.  If no such overlap exists,\n",
    "        return 0. \"\"\"\n",
    "    start = 0  # start all the way at the left\n",
    "    "
   ]
  },
  {
   "cell_type": "code",
   "execution_count": 7,
   "metadata": {
    "collapsed": true
   },
   "outputs": [],
   "source": [
    "import itertools\n",
    "# search the docu how to use itertools in python! (https://docs.python.org/3/library/itertools.html)\n",
    "\n",
    "def scs(ss):\n",
    "    \"\"\" Returns shortest common superstring of given strings,\n",
    "        assuming no string is a strict substring of another \"\"\"\n",
    "    shortest_sup = None\n",
    "    # use itertools.permutations(ss) to get all the possible permutations from the superstring (ss)\n",
    "\n",
    "        # you will need an inner loop to iterate on the overlaps\n",
    "        \n",
    "    return shortest_sup"
   ]
  },
  {
   "cell_type": "code",
   "execution_count": 8,
   "metadata": {},
   "outputs": [
    {
     "name": "stdout",
     "output_type": "stream",
     "text": [
      "CPU times: user 67 µs, sys: 14 µs, total: 81 µs\n",
      "Wall time: 75.1 µs\n"
     ]
    },
    {
     "data": {
      "text/plain": [
       "'ACGGATGAGCGAGCGGA'"
      ]
     },
     "execution_count": 8,
     "metadata": {},
     "output_type": "execute_result"
    }
   ],
   "source": [
    "%%time\n",
    "scs(['ACGGATGAGC', 'GAGCGGA', 'GAGCGAG'])"
   ]
  }
 ],
 "metadata": {
  "kernelspec": {
   "display_name": "Python 3",
   "language": "python",
   "name": "python3"
  },
  "language_info": {
   "codemirror_mode": {
    "name": "ipython",
    "version": 3
   },
   "file_extension": ".py",
   "mimetype": "text/x-python",
   "name": "python",
   "nbconvert_exporter": "python",
   "pygments_lexer": "ipython3",
   "version": "3.5.4"
  }
 },
 "nbformat": 4,
 "nbformat_minor": 1
}
