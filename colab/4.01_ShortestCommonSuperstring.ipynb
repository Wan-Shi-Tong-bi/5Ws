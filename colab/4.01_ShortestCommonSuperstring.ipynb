{
  "cells": [
    {
      "cell_type": "markdown",
      "metadata": {
        "id": "view-in-github",
        "colab_type": "text"
      },
      "source": [
        "<a href=\"https://colab.research.google.com/github/Wan-Shi-Tong-bi/5Ws/blob/main/colab/4.01_ShortestCommonSuperstring.ipynb\" target=\"_parent\"><img src=\"https://colab.research.google.com/assets/colab-badge.svg\" alt=\"Open In Colab\"/></a>"
      ]
    },
    {
      "cell_type": "markdown",
      "metadata": {
        "id": "6-Hf7Yw5azdz"
      },
      "source": [
        "# Genome Assemly\n",
        "## Shortest Common Superstring\n",
        "Use Brute Force Algorithm to solve SCS Problem\n",
        "Loop over all possible iterations of the substrings. Return the shortest of these solutions.\n",
        "Be aware of the runtime. This approach is NP-complete."
      ]
    },
    {
      "cell_type": "code",
      "execution_count": 11,
      "metadata": {
        "collapsed": true,
        "id": "w076l2EYazd2"
      },
      "outputs": [],
      "source": [
        "def overlap(a, b, min_length=3):\n",
        "    \"\"\" Return length of longest suffix of 'a' matching\n",
        "        a prefix of 'b' that is at least 'min_length'\n",
        "        characters long.  If no such overlap exists,\n",
        "        return 0. \"\"\"\n",
        "    start = 0  # start all the way at the left\n",
        "    while True:\n",
        "      start = a.find(b[:min_length],start)\n",
        "      if start == -1:\n",
        "        return 0\n",
        "      if b.startswith(a[start:]):\n",
        "        return len(a) - start\n",
        "      start += 1"
      ]
    },
    {
      "cell_type": "code",
      "execution_count": 22,
      "metadata": {
        "collapsed": true,
        "id": "tABW-lziazd4"
      },
      "outputs": [],
      "source": [
        "import itertools\n",
        "# search the docu how to use itertools in python! (https://docs.python.org/3/library/itertools.html)\n",
        "\n",
        "def scs(ss):\n",
        "    \"\"\" Returns shortest common superstring of given strings,\n",
        "        assuming no string is a strict substring of another \"\"\"\n",
        "    shortest_sup = None\n",
        "    # use itertools.permutations(ss) to get all the possible permutations from the superstring (ss)\n",
        "    for ssperm in itertools.permutations(ss):\n",
        "      sup = ssperm[0]\n",
        "      # you will need an inner loop to iterate on the overlaps\n",
        "      for i in range(len(ss) - 1):\n",
        "        olen = overlap(ssperm[i], ssperm[i+1], 1)\n",
        "        sup += ssperm[i+1][olen:]\n",
        "      if shortest_sup is None or len(sup) < len(shortest_sup):\n",
        "        shortest_sup = sup\n",
        "    return shortest_sup"
      ]
    },
    {
      "cell_type": "code",
      "execution_count": 28,
      "metadata": {
        "colab": {
          "base_uri": "https://localhost:8080/",
          "height": 70
        },
        "id": "VWuTOlT6azd4",
        "outputId": "bbfa47ad-4764-4b05-9d68-d089c44ef514"
      },
      "outputs": [
        {
          "output_type": "stream",
          "name": "stdout",
          "text": [
            "CPU times: user 77 µs, sys: 0 ns, total: 77 µs\n",
            "Wall time: 81.1 µs\n"
          ]
        },
        {
          "output_type": "execute_result",
          "data": {
            "text/plain": [
              "'ACGGATGAGCGAGCGGA'"
            ],
            "application/vnd.google.colaboratory.intrinsic+json": {
              "type": "string"
            }
          },
          "metadata": {},
          "execution_count": 28
        }
      ],
      "source": [
        "%%time\n",
        "scs(['ACGGATGAGC', 'GAGCGGA', 'GAGCGAG'])"
      ]
    }
  ],
  "metadata": {
    "kernelspec": {
      "display_name": "Python 3",
      "language": "python",
      "name": "python3"
    },
    "language_info": {
      "codemirror_mode": {
        "name": "ipython",
        "version": 3
      },
      "file_extension": ".py",
      "mimetype": "text/x-python",
      "name": "python",
      "nbconvert_exporter": "python",
      "pygments_lexer": "ipython3",
      "version": "3.5.4"
    },
    "colab": {
      "name": "4.01_ShortestCommonSuperstring.ipynb",
      "provenance": [],
      "include_colab_link": true
    }
  },
  "nbformat": 4,
  "nbformat_minor": 0
}