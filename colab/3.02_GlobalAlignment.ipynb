{
  "cells": [
    {
      "cell_type": "markdown",
      "metadata": {
        "id": "view-in-github",
        "colab_type": "text"
      },
      "source": [
        "<a href=\"https://colab.research.google.com/github/Wan-Shi-Tong-bi/5Ws/blob/main/colab/3.02_GlobalAlignment.ipynb\" target=\"_parent\"><img src=\"https://colab.research.google.com/assets/colab-badge.svg\" alt=\"Open In Colab\"/></a>"
      ]
    },
    {
      "cell_type": "markdown",
      "metadata": {
        "id": "aAacV-PwHoMy"
      },
      "source": [
        "# Global Alignment"
      ]
    },
    {
      "cell_type": "code",
      "execution_count": 8,
      "metadata": {
        "collapsed": true,
        "id": "OcqKtbN8HoM4"
      },
      "outputs": [],
      "source": [
        "alphabet = ['A', 'C', 'G', 'T']\n",
        "score = [[0, 4, 2, 4, 8], # A mismatch against each other; last one skipped\n",
        "         [4, 0, 4, 2, 8], # C\n",
        "         [2, 4, 0, 4, 8], # G\n",
        "         [4, 2, 4, 0, 8], # T\n",
        "         [8, 8, 8, 8, 8]] # just the skippes"
      ]
    },
    {
      "cell_type": "code",
      "execution_count": 9,
      "metadata": {
        "colab": {
          "base_uri": "https://localhost:8080/"
        },
        "id": "PHeFZCYMHoM6",
        "outputId": "58123cec-bbd9-450f-b3e6-76af610d91df"
      },
      "outputs": [
        {
          "output_type": "execute_result",
          "data": {
            "text/plain": [
              "0"
            ]
          },
          "metadata": {},
          "execution_count": 9
        }
      ],
      "source": [
        "# converts from character to its offset in list alphabet\n",
        "alphabet.index('A')"
      ]
    },
    {
      "cell_type": "code",
      "execution_count": 10,
      "metadata": {
        "colab": {
          "base_uri": "https://localhost:8080/"
        },
        "id": "8uCTPZAgHoM8",
        "outputId": "b5d59eba-28ef-4d7b-a9ee-448470d7166d"
      },
      "outputs": [
        {
          "output_type": "execute_result",
          "data": {
            "text/plain": [
              "2"
            ]
          },
          "metadata": {},
          "execution_count": 10
        }
      ],
      "source": [
        "alphabet.index('G')"
      ]
    },
    {
      "cell_type": "code",
      "execution_count": 11,
      "metadata": {
        "colab": {
          "base_uri": "https://localhost:8080/"
        },
        "id": "ks-iG7EoHoM9",
        "outputId": "5e685317-b60e-4220-81a3-b96a4a3f4165"
      },
      "outputs": [
        {
          "output_type": "execute_result",
          "data": {
            "text/plain": [
              "4"
            ]
          },
          "metadata": {},
          "execution_count": 11
        }
      ],
      "source": [
        "# penalty associated with A (from X) mismatching with T (from Y)\n",
        "score[alphabet.index('A')][alphabet.index('T')]"
      ]
    },
    {
      "cell_type": "code",
      "execution_count": 12,
      "metadata": {
        "colab": {
          "base_uri": "https://localhost:8080/"
        },
        "id": "gP-c05-KHoM-",
        "outputId": "14c4ea20-cf87-4623-c3ad-88f80c107ce1"
      },
      "outputs": [
        {
          "output_type": "execute_result",
          "data": {
            "text/plain": [
              "8"
            ]
          },
          "metadata": {},
          "execution_count": 12
        }
      ],
      "source": [
        "# penalty associated with C (from X) being deleted in Y\n",
        "score[alphabet.index('C')][-1]"
      ]
    },
    {
      "cell_type": "code",
      "execution_count": 13,
      "metadata": {
        "collapsed": true,
        "id": "nNZNJSyaHoM_"
      },
      "outputs": [],
      "source": [
        "def globalAlignment(x, y):\n",
        "    # Create distance matrix and initialize with 0s\n",
        "    D = []\n",
        "    for i in range(len(x)+1):\n",
        "        D.append([0] * (len(y)+1))\n",
        "        \n",
        "    # Initialize first column\n",
        "    for i in range(1, len(x)+1):\n",
        "        D[i][0] = D[i-1][0] + score[alphabet.index(x[i-1])][-1] # iter over x (-1 due to starting from 1); last because penalty for add\n",
        "\n",
        "    # Initialize first row\n",
        "    for j in range(1,len(y)+1):\n",
        "        D[0][j] = D[0][j-1] + score[-1][alphabet.index(y[j-1])]\n",
        "        \n",
        "    # Fill rest of the matrix\n",
        "    for i in range(1, len(x)+1):\n",
        "        for j in range(1, len(y)+1):\n",
        "            distHor = D[i][j-1] + score[-1][alphabet.index(y[j-1])]\n",
        "            distVer = D[i-1][j] + score[alphabet.index(x[i-1])][-1]\n",
        "            if x[i-1] == y[j-1]:\n",
        "              distDiag = D[i-1][j-1]\n",
        "            else:\n",
        "              distDiag = D[i-1][j-1] + score[alphabet.index(x[i-1])][alphabet.index(y[j-1])]\n",
        "            D[i][j] = min(distHor, distVer, distDiag)\n",
        "    \n",
        "    return D[-1][-1]  # return value in bottom right corner"
      ]
    },
    {
      "cell_type": "code",
      "execution_count": 14,
      "metadata": {
        "colab": {
          "base_uri": "https://localhost:8080/"
        },
        "id": "mBY_bJ4OHoNA",
        "outputId": "fcff3aeb-eda2-4cab-e93f-2aac42decd5b"
      },
      "outputs": [
        {
          "output_type": "stream",
          "name": "stdout",
          "text": [
            "12\n"
          ]
        }
      ],
      "source": [
        "x = 'TATGTCATGC'\n",
        "y = 'TATGGCAGC'\n",
        "print(globalAlignment(x,y))"
      ]
    }
  ],
  "metadata": {
    "anaconda-cloud": {},
    "kernelspec": {
      "display_name": "Python 3",
      "language": "python",
      "name": "python3"
    },
    "language_info": {
      "codemirror_mode": {
        "name": "ipython",
        "version": 3
      },
      "file_extension": ".py",
      "mimetype": "text/x-python",
      "name": "python",
      "nbconvert_exporter": "python",
      "pygments_lexer": "ipython3",
      "version": "3.5.4"
    },
    "colab": {
      "name": "3.02_GlobalAlignment.ipynb",
      "provenance": [],
      "include_colab_link": true
    }
  },
  "nbformat": 4,
  "nbformat_minor": 0
}