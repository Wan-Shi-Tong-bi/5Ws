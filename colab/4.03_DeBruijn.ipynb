{
  "cells": [
    {
      "cell_type": "markdown",
      "metadata": {
        "id": "view-in-github",
        "colab_type": "text"
      },
      "source": [
        "<a href=\"https://colab.research.google.com/github/Wan-Shi-Tong-bi/5Ws/blob/main/colab/4.03_DeBruijn.ipynb\" target=\"_parent\"><img src=\"https://colab.research.google.com/assets/colab-badge.svg\" alt=\"Open In Colab\"/></a>"
      ]
    },
    {
      "cell_type": "markdown",
      "metadata": {
        "id": "vRCGrYSia6Bw"
      },
      "source": [
        "# Build a DeBruijn Graph"
      ]
    },
    {
      "cell_type": "markdown",
      "metadata": {
        "id": "emrHcgSsa6By"
      },
      "source": [
        "Write a function \"de_bruijn_ize\" which gets a string and a kmer length k and returns the nodes and edges of the corresponding DeBruijn graph.\n",
        "\n",
        "Remember how to build the DeBruijn Graph: \n",
        "\n",
        "  1. For each kmer, build the left and right (k-1)mer. These are the two starting nodes of the graph.\n",
        "  2. Insert an edge between these two nodes.\n",
        "  3. Repeat for all remaining kmers."
      ]
    },
    {
      "cell_type": "code",
      "execution_count": 9,
      "metadata": {
        "collapsed": true,
        "id": "0adGfd-Qa6Bz"
      },
      "outputs": [],
      "source": [
        "def de_bruijn_ize(st, k):\n",
        "    \"\"\" Return a list holding, for each k-mer, its left\n",
        "        k-1-mer and its right k-1-mer in a pair \"\"\"\n",
        "    edges = []\n",
        "    nodes = set()\n",
        "    for i in range(len(st) - k + 1):\n",
        "        edges.append((st[i:i+k-1], st[i+1:i+k]))\n",
        "        nodes.add(st[i:i+k-1])\n",
        "        nodes.add(st[i+1:i+k])\n",
        "    return nodes, edges"
      ]
    },
    {
      "cell_type": "code",
      "execution_count": 10,
      "metadata": {
        "collapsed": true,
        "id": "JoWAGKTra6B0"
      },
      "outputs": [],
      "source": [
        "nodes, edges = de_bruijn_ize(\"ACGCGTCG\", 3)"
      ]
    },
    {
      "cell_type": "code",
      "execution_count": 11,
      "metadata": {
        "id": "L-X_tqEya6B1",
        "outputId": "d09e37f6-2bfd-4b79-945c-e37ec0c824ac",
        "colab": {
          "base_uri": "https://localhost:8080/"
        }
      },
      "outputs": [
        {
          "output_type": "execute_result",
          "data": {
            "text/plain": [
              "{'AC', 'CG', 'GC', 'GT', 'TC'}"
            ]
          },
          "metadata": {},
          "execution_count": 11
        }
      ],
      "source": [
        "nodes"
      ]
    },
    {
      "cell_type": "code",
      "execution_count": 12,
      "metadata": {
        "id": "-CFXElvsa6B3",
        "outputId": "9e04a5de-4c6a-4c2b-c75f-c61d8ee82216",
        "colab": {
          "base_uri": "https://localhost:8080/"
        }
      },
      "outputs": [
        {
          "output_type": "execute_result",
          "data": {
            "text/plain": [
              "[('AC', 'CG'),\n",
              " ('CG', 'GC'),\n",
              " ('GC', 'CG'),\n",
              " ('CG', 'GT'),\n",
              " ('GT', 'TC'),\n",
              " ('TC', 'CG')]"
            ]
          },
          "metadata": {},
          "execution_count": 12
        }
      ],
      "source": [
        "edges"
      ]
    },
    {
      "cell_type": "code",
      "execution_count": 13,
      "metadata": {
        "collapsed": true,
        "id": "nSGFlxUsa6B3"
      },
      "outputs": [],
      "source": [
        "def visualize_de_bruijn(st, k):\n",
        "    \"\"\" Visualize a directed multigraph using graphviz \"\"\"\n",
        "    nodes, edges = de_bruijn_ize(st, k)\n",
        "    dot_str = 'digraph \"DeBruijn graph\" {\\n'\n",
        "    for node in nodes:\n",
        "        dot_str += '  %s [label=\"%s\"] ;\\n' % (node, node)\n",
        "    for src, dst in edges:\n",
        "        dot_str += '  %s -> %s ;\\n' % (src, dst)\n",
        "    return dot_str + '}\\n'"
      ]
    },
    {
      "cell_type": "code",
      "execution_count": 14,
      "metadata": {
        "id": "Rg4agCJoa6B4",
        "outputId": "23a9662e-b05f-406a-805e-c740c8ec487e",
        "colab": {
          "base_uri": "https://localhost:8080/"
        }
      },
      "outputs": [
        {
          "output_type": "stream",
          "name": "stdout",
          "text": [
            "Requirement already satisfied: gvmagic in /usr/local/lib/python3.7/dist-packages (0.5)\n"
          ]
        }
      ],
      "source": [
        "# might have to install gvmagic this first:\n",
        "!pip install gvmagic"
      ]
    },
    {
      "cell_type": "code",
      "execution_count": 15,
      "metadata": {
        "id": "JRIpGy_na6B4",
        "outputId": "d65fa2ec-7eac-4dfb-9288-44842b0eea00",
        "colab": {
          "base_uri": "https://localhost:8080/"
        }
      },
      "outputs": [
        {
          "output_type": "stream",
          "name": "stdout",
          "text": [
            "The gvmagic extension is already loaded. To reload it, use:\n",
            "  %reload_ext gvmagic\n"
          ]
        }
      ],
      "source": [
        "%load_ext gvmagic"
      ]
    },
    {
      "cell_type": "code",
      "execution_count": 16,
      "metadata": {
        "id": "2CojJSRIa6B5",
        "outputId": "4f22de4a-ed28-4033-aff1-922180ddc793",
        "colab": {
          "base_uri": "https://localhost:8080/",
          "height": 368
        }
      },
      "outputs": [
        {
          "output_type": "display_data",
          "data": {
            "text/plain": [
              "<IPython.core.display.SVG object>"
            ],
            "image/svg+xml": "<svg height=\"260pt\" viewBox=\"0.00 0.00 172.00 260.00\" width=\"172pt\" xmlns=\"http://www.w3.org/2000/svg\" xmlns:xlink=\"http://www.w3.org/1999/xlink\">\n<g class=\"graph\" id=\"graph0\" transform=\"scale(1 1) rotate(0) translate(4 256)\">\n<title>DeBruijn graph</title>\n<polygon fill=\"#ffffff\" points=\"-4,4 -4,-256 168,-256 168,4 -4,4\" stroke=\"transparent\"/>\n<!-- GT -->\n<g class=\"node\" id=\"node1\">\n<title>GT</title>\n<ellipse cx=\"54\" cy=\"-234\" fill=\"none\" rx=\"27\" ry=\"18\" stroke=\"#000000\"/>\n<text fill=\"#000000\" font-family=\"Times,serif\" font-size=\"14.00\" text-anchor=\"middle\" x=\"54\" y=\"-230.3\">GT</text>\n</g>\n<!-- TC -->\n<g class=\"node\" id=\"node3\">\n<title>TC</title>\n<ellipse cx=\"27\" cy=\"-162\" fill=\"none\" rx=\"27\" ry=\"18\" stroke=\"#000000\"/>\n<text fill=\"#000000\" font-family=\"Times,serif\" font-size=\"14.00\" text-anchor=\"middle\" x=\"27\" y=\"-158.3\">TC</text>\n</g>\n<!-- GT&#45;&gt;TC -->\n<g class=\"edge\" id=\"edge5\">\n<title>GT-&gt;TC</title>\n<path d=\"M47.3258,-216.2022C44.2524,-208.0064 40.5384,-198.1024 37.1305,-189.0145\" fill=\"none\" stroke=\"#000000\"/>\n<polygon fill=\"#000000\" points=\"40.3858,-187.7274 33.5974,-179.593 33.8315,-190.1853 40.3858,-187.7274\" stroke=\"#000000\"/>\n</g>\n<!-- GC -->\n<g class=\"node\" id=\"node2\">\n<title>GC</title>\n<ellipse cx=\"82\" cy=\"-18\" fill=\"none\" rx=\"27\" ry=\"18\" stroke=\"#000000\"/>\n<text fill=\"#000000\" font-family=\"Times,serif\" font-size=\"14.00\" text-anchor=\"middle\" x=\"82\" y=\"-14.3\">GC</text>\n</g>\n<!-- CG -->\n<g class=\"node\" id=\"node4\">\n<title>CG</title>\n<ellipse cx=\"82\" cy=\"-90\" fill=\"none\" rx=\"27\" ry=\"18\" stroke=\"#000000\"/>\n<text fill=\"#000000\" font-family=\"Times,serif\" font-size=\"14.00\" text-anchor=\"middle\" x=\"82\" y=\"-86.3\">CG</text>\n</g>\n<!-- GC&#45;&gt;CG -->\n<g class=\"edge\" id=\"edge3\">\n<title>GC-&gt;CG</title>\n<path d=\"M87.895,-35.593C88.7094,-43.5865 88.942,-53.2363 88.5928,-62.1759\" fill=\"none\" stroke=\"#000000\"/>\n<polygon fill=\"#000000\" points=\"85.0976,-61.9891 87.9157,-72.2022 92.0817,-62.4608 85.0976,-61.9891\" stroke=\"#000000\"/>\n</g>\n<!-- TC&#45;&gt;CG -->\n<g class=\"edge\" id=\"edge6\">\n<title>TC-&gt;CG</title>\n<path d=\"M39.4804,-145.6621C46.5124,-136.4564 55.4347,-124.7764 63.2883,-114.4953\" fill=\"none\" stroke=\"#000000\"/>\n<polygon fill=\"#000000\" points=\"66.28,-116.3446 69.569,-106.2733 60.7172,-112.0953 66.28,-116.3446\" stroke=\"#000000\"/>\n</g>\n<!-- CG&#45;&gt;GT -->\n<g class=\"edge\" id=\"edge4\">\n<title>CG-&gt;GT</title>\n<path d=\"M78.4664,-108.1727C73.6642,-132.8697 65.0329,-177.2595 59.4117,-206.1684\" fill=\"none\" stroke=\"#000000\"/>\n<polygon fill=\"#000000\" points=\"55.9627,-205.5692 57.4896,-216.0535 62.834,-206.9054 55.9627,-205.5692\" stroke=\"#000000\"/>\n</g>\n<!-- CG&#45;&gt;GC -->\n<g class=\"edge\" id=\"edge2\">\n<title>CG-&gt;GC</title>\n<path d=\"M76.0843,-72.2022C75.2798,-64.1807 75.0571,-54.5231 75.4162,-45.5957\" fill=\"none\" stroke=\"#000000\"/>\n<polygon fill=\"#000000\" points=\"78.9097,-45.8099 76.105,-35.593 71.9262,-45.3289 78.9097,-45.8099\" stroke=\"#000000\"/>\n</g>\n<!-- AC -->\n<g class=\"node\" id=\"node5\">\n<title>AC</title>\n<ellipse cx=\"137\" cy=\"-162\" fill=\"none\" rx=\"27\" ry=\"18\" stroke=\"#000000\"/>\n<text fill=\"#000000\" font-family=\"Times,serif\" font-size=\"14.00\" text-anchor=\"middle\" x=\"137\" y=\"-158.3\">AC</text>\n</g>\n<!-- AC&#45;&gt;CG -->\n<g class=\"edge\" id=\"edge1\">\n<title>AC-&gt;CG</title>\n<path d=\"M124.5196,-145.6621C117.4876,-136.4564 108.5653,-124.7764 100.7117,-114.4953\" fill=\"none\" stroke=\"#000000\"/>\n<polygon fill=\"#000000\" points=\"103.2828,-112.0953 94.431,-106.2733 97.72,-116.3446 103.2828,-112.0953\" stroke=\"#000000\"/>\n</g>\n</g>\n</svg>"
          },
          "metadata": {}
        }
      ],
      "source": [
        "%dotstr visualize_de_bruijn(\"ACGCGTCG\", 3)"
      ]
    }
  ],
  "metadata": {
    "kernelspec": {
      "display_name": "Python 3",
      "language": "python",
      "name": "python3"
    },
    "language_info": {
      "codemirror_mode": {
        "name": "ipython",
        "version": 3
      },
      "file_extension": ".py",
      "mimetype": "text/x-python",
      "name": "python",
      "nbconvert_exporter": "python",
      "pygments_lexer": "ipython3",
      "version": "3.6.3"
    },
    "colab": {
      "name": "4.03_DeBruijn.ipynb",
      "provenance": [],
      "include_colab_link": true
    }
  },
  "nbformat": 4,
  "nbformat_minor": 0
}