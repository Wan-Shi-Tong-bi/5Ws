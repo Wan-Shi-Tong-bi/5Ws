{
  "cells": [
    {
      "cell_type": "markdown",
      "metadata": {
        "id": "view-in-github",
        "colab_type": "text"
      },
      "source": [
        "<a href=\"https://colab.research.google.com/github/Wan-Shi-Tong-bi/5Ws/blob/main/colab/4.03_DeBruijn.ipynb\" target=\"_parent\"><img src=\"https://colab.research.google.com/assets/colab-badge.svg\" alt=\"Open In Colab\"/></a>"
      ]
    },
    {
      "cell_type": "markdown",
      "metadata": {
        "id": "vRCGrYSia6Bw"
      },
      "source": [
        "# Build a DeBruijn Graph"
      ]
    },
    {
      "cell_type": "markdown",
      "metadata": {
        "id": "emrHcgSsa6By"
      },
      "source": [
        "Write a function \"de_bruijn_ize\" which gets a string and a kmer length k and returns the nodes and edges of the corresponding DeBruijn graph.\n",
        "\n",
        "Remember how to build the DeBruijn Graph: \n",
        "\n",
        "  1. For each kmer, build the left and right (k-1)mer. These are the two starting nodes of the graph.\n",
        "  2. Insert an edge between these two nodes.\n",
        "  3. Repeat for all remaining kmers."
      ]
    },
    {
      "cell_type": "code",
      "execution_count": null,
      "metadata": {
        "collapsed": true,
        "id": "0adGfd-Qa6Bz"
      },
      "outputs": [],
      "source": [
        "def de_bruijn_ize(st, k):\n",
        "    \"\"\" Return a list holding, for each k-mer, its left\n",
        "        k-1-mer and its right k-1-mer in a pair \"\"\"\n",
        "    # your code\n",
        "    return nodes, edges"
      ]
    },
    {
      "cell_type": "code",
      "execution_count": null,
      "metadata": {
        "collapsed": true,
        "id": "JoWAGKTra6B0"
      },
      "outputs": [],
      "source": [
        "nodes, edges = de_bruijn_ize(\"ACGCGTCG\", 3)"
      ]
    },
    {
      "cell_type": "code",
      "execution_count": null,
      "metadata": {
        "id": "L-X_tqEya6B1",
        "outputId": "3b330a39-1af9-49f1-9b09-bdd536c45f01"
      },
      "outputs": [
        {
          "data": {
            "text/plain": [
              "{'AC', 'CG', 'GC', 'GT', 'TC'}"
            ]
          },
          "execution_count": 7,
          "metadata": {},
          "output_type": "execute_result"
        }
      ],
      "source": [
        "nodes"
      ]
    },
    {
      "cell_type": "code",
      "execution_count": null,
      "metadata": {
        "id": "-CFXElvsa6B3",
        "outputId": "ebc14f11-b6e3-43e6-e84c-6998af0d6d90"
      },
      "outputs": [
        {
          "data": {
            "text/plain": [
              "[('AC', 'CG'),\n",
              " ('CG', 'GC'),\n",
              " ('GC', 'CG'),\n",
              " ('CG', 'GT'),\n",
              " ('GT', 'TC'),\n",
              " ('TC', 'CG')]"
            ]
          },
          "execution_count": 8,
          "metadata": {},
          "output_type": "execute_result"
        }
      ],
      "source": [
        "edges"
      ]
    },
    {
      "cell_type": "code",
      "execution_count": null,
      "metadata": {
        "collapsed": true,
        "id": "nSGFlxUsa6B3"
      },
      "outputs": [],
      "source": [
        "def visualize_de_bruijn(st, k):\n",
        "    \"\"\" Visualize a directed multigraph using graphviz \"\"\"\n",
        "    nodes, edges = de_bruijn_ize(st, k)\n",
        "    dot_str = 'digraph \"DeBruijn graph\" {\\n'\n",
        "    for node in nodes:\n",
        "        dot_str += '  %s [label=\"%s\"] ;\\n' % (node, node)\n",
        "    for src, dst in edges:\n",
        "        dot_str += '  %s -> %s ;\\n' % (src, dst)\n",
        "    return dot_str + '}\\n'"
      ]
    },
    {
      "cell_type": "code",
      "execution_count": null,
      "metadata": {
        "id": "Rg4agCJoa6B4",
        "outputId": "0745272f-f46b-47d0-dcf3-60e206099700"
      },
      "outputs": [
        {
          "name": "stdout",
          "output_type": "stream",
          "text": [
            "Requirement already satisfied: gvmagic in /Users/bmayr/anaconda3/lib/python3.6/site-packages\n",
            "\u001b[33mYou are using pip version 9.0.1, however version 9.0.3 is available.\n",
            "You should consider upgrading via the 'pip install --upgrade pip' command.\u001b[0m\n"
          ]
        }
      ],
      "source": [
        "# might have to install gvmagic this first:\n",
        "!pip install gvmagic"
      ]
    },
    {
      "cell_type": "code",
      "execution_count": null,
      "metadata": {
        "id": "JRIpGy_na6B4",
        "outputId": "a76e6143-0087-40d2-a37d-3b34655d1eb4"
      },
      "outputs": [
        {
          "name": "stdout",
          "output_type": "stream",
          "text": [
            "The gvmagic extension is already loaded. To reload it, use:\n",
            "  %reload_ext gvmagic\n"
          ]
        }
      ],
      "source": [
        "%load_ext gvmagic"
      ]
    },
    {
      "cell_type": "code",
      "execution_count": null,
      "metadata": {
        "id": "2CojJSRIa6B5",
        "outputId": "fb777137-c4b8-41f3-fbeb-66486cb66ae4"
      },
      "outputs": [
        {
          "data": {
            "image/svg+xml": [
              "<?xml version=\"1.0\" encoding=\"UTF-8\" standalone=\"no\"?>\n",
              "<!DOCTYPE svg PUBLIC \"-//W3C//DTD SVG 1.1//EN\"\n",
              " \"http://www.w3.org/Graphics/SVG/1.1/DTD/svg11.dtd\">\n",
              "<!-- Generated by graphviz version 2.40.1 (20161225.0304)\n",
              " -->\n",
              "<!-- Title: DeBruijn graph Pages: 1 -->\n",
              "<svg width=\"161pt\" height=\"260pt\"\n",
              " viewBox=\"0.00 0.00 161.00 260.00\" xmlns=\"http://www.w3.org/2000/svg\" xmlns:xlink=\"http://www.w3.org/1999/xlink\">\n",
              "<g id=\"graph0\" class=\"graph\" transform=\"scale(1 1) rotate(0) translate(4 256)\">\n",
              "<title>DeBruijn graph</title>\n",
              "<polygon fill=\"#ffffff\" stroke=\"transparent\" points=\"-4,4 -4,-256 157,-256 157,4 -4,4\"/>\n",
              "<!-- CG -->\n",
              "<g id=\"node1\" class=\"node\">\n",
              "<title>CG</title>\n",
              "<ellipse fill=\"none\" stroke=\"#000000\" cx=\"63\" cy=\"-162\" rx=\"27\" ry=\"18\"/>\n",
              "<text text-anchor=\"middle\" x=\"63\" y=\"-157.8\" font-family=\"Times,serif\" font-size=\"14.00\" fill=\"#000000\">CG</text>\n",
              "</g>\n",
              "<!-- GC -->\n",
              "<g id=\"node2\" class=\"node\">\n",
              "<title>GC</title>\n",
              "<ellipse fill=\"none\" stroke=\"#000000\" cx=\"27\" cy=\"-90\" rx=\"27\" ry=\"18\"/>\n",
              "<text text-anchor=\"middle\" x=\"27\" y=\"-85.8\" font-family=\"Times,serif\" font-size=\"14.00\" fill=\"#000000\">GC</text>\n",
              "</g>\n",
              "<!-- CG&#45;&gt;GC -->\n",
              "<g id=\"edge2\" class=\"edge\">\n",
              "<title>CG&#45;&gt;GC</title>\n",
              "<path fill=\"none\" stroke=\"#000000\" d=\"M49.5101,-146.3771C44.2925,-137.9398 38.6601,-127.276 34.1698,-117.4994\"/>\n",
              "<polygon fill=\"#000000\" stroke=\"#000000\" points=\"37.3009,-115.9219 30.1179,-108.1338 30.8764,-118.7014 37.3009,-115.9219\"/>\n",
              "</g>\n",
              "<!-- GT -->\n",
              "<g id=\"node4\" class=\"node\">\n",
              "<title>GT</title>\n",
              "<ellipse fill=\"none\" stroke=\"#000000\" cx=\"99\" cy=\"-90\" rx=\"27\" ry=\"18\"/>\n",
              "<text text-anchor=\"middle\" x=\"99\" y=\"-85.8\" font-family=\"Times,serif\" font-size=\"14.00\" fill=\"#000000\">GT</text>\n",
              "</g>\n",
              "<!-- CG&#45;&gt;GT -->\n",
              "<g id=\"edge4\" class=\"edge\">\n",
              "<title>CG&#45;&gt;GT</title>\n",
              "<path fill=\"none\" stroke=\"#000000\" d=\"M71.7146,-144.5708C75.9597,-136.0807 81.1536,-125.6929 85.8663,-116.2674\"/>\n",
              "<polygon fill=\"#000000\" stroke=\"#000000\" points=\"89.024,-117.7782 90.3657,-107.2687 82.763,-114.6477 89.024,-117.7782\"/>\n",
              "</g>\n",
              "<!-- GC&#45;&gt;CG -->\n",
              "<g id=\"edge3\" class=\"edge\">\n",
              "<title>GC&#45;&gt;CG</title>\n",
              "<path fill=\"none\" stroke=\"#000000\" d=\"M40.6959,-105.9568C45.8674,-114.3599 51.4248,-124.9015 55.8612,-134.5681\"/>\n",
              "<polygon fill=\"#000000\" stroke=\"#000000\" points=\"52.6856,-136.0428 59.8681,-143.8314 59.1103,-133.2637 52.6856,-136.0428\"/>\n",
              "</g>\n",
              "<!-- AC -->\n",
              "<g id=\"node3\" class=\"node\">\n",
              "<title>AC</title>\n",
              "<ellipse fill=\"none\" stroke=\"#000000\" cx=\"63\" cy=\"-234\" rx=\"27\" ry=\"18\"/>\n",
              "<text text-anchor=\"middle\" x=\"63\" y=\"-229.8\" font-family=\"Times,serif\" font-size=\"14.00\" fill=\"#000000\">AC</text>\n",
              "</g>\n",
              "<!-- AC&#45;&gt;CG -->\n",
              "<g id=\"edge1\" class=\"edge\">\n",
              "<title>AC&#45;&gt;CG</title>\n",
              "<path fill=\"none\" stroke=\"#000000\" d=\"M63,-215.8314C63,-208.131 63,-198.9743 63,-190.4166\"/>\n",
              "<polygon fill=\"#000000\" stroke=\"#000000\" points=\"66.5001,-190.4132 63,-180.4133 59.5001,-190.4133 66.5001,-190.4132\"/>\n",
              "</g>\n",
              "<!-- TC -->\n",
              "<g id=\"node5\" class=\"node\">\n",
              "<title>TC</title>\n",
              "<ellipse fill=\"none\" stroke=\"#000000\" cx=\"126\" cy=\"-18\" rx=\"27\" ry=\"18\"/>\n",
              "<text text-anchor=\"middle\" x=\"126\" y=\"-13.8\" font-family=\"Times,serif\" font-size=\"14.00\" fill=\"#000000\">TC</text>\n",
              "</g>\n",
              "<!-- GT&#45;&gt;TC -->\n",
              "<g id=\"edge5\" class=\"edge\">\n",
              "<title>GT&#45;&gt;TC</title>\n",
              "<path fill=\"none\" stroke=\"#000000\" d=\"M105.6742,-72.2022C108.7476,-64.0064 112.4616,-54.1024 115.8695,-45.0145\"/>\n",
              "<polygon fill=\"#000000\" stroke=\"#000000\" points=\"119.1685,-46.1853 119.4026,-35.593 112.6142,-43.7274 119.1685,-46.1853\"/>\n",
              "</g>\n",
              "<!-- TC&#45;&gt;CG -->\n",
              "<g id=\"edge6\" class=\"edge\">\n",
              "<title>TC&#45;&gt;CG</title>\n",
              "<path fill=\"none\" stroke=\"#000000\" d=\"M133.1139,-35.5916C139.5842,-54.5083 146.517,-84.966 135,-108 126.5514,-124.8972 110.023,-137.8787 94.9314,-146.8742\"/>\n",
              "<polygon fill=\"#000000\" stroke=\"#000000\" points=\"92.8371,-144.0345 85.8054,-151.9595 96.2445,-150.1492 92.8371,-144.0345\"/>\n",
              "</g>\n",
              "</g>\n",
              "</svg>\n"
            ]
          },
          "metadata": {},
          "output_type": "display_data"
        }
      ],
      "source": [
        "%dotstr visualize_de_bruijn(\"ACGCGTCG\", 3)"
      ]
    }
  ],
  "metadata": {
    "kernelspec": {
      "display_name": "Python 3",
      "language": "python",
      "name": "python3"
    },
    "language_info": {
      "codemirror_mode": {
        "name": "ipython",
        "version": 3
      },
      "file_extension": ".py",
      "mimetype": "text/x-python",
      "name": "python",
      "nbconvert_exporter": "python",
      "pygments_lexer": "ipython3",
      "version": "3.6.3"
    },
    "colab": {
      "name": "4.03_DeBruijn.ipynb",
      "provenance": [],
      "include_colab_link": true
    }
  },
  "nbformat": 4,
  "nbformat_minor": 0
}