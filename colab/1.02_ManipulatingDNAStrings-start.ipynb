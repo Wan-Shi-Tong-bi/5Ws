{
  "nbformat": 4,
  "nbformat_minor": 0,
  "metadata": {
    "kernelspec": {
      "display_name": "Python 3",
      "language": "python",
      "name": "python3"
    },
    "language_info": {
      "codemirror_mode": {
        "name": "ipython",
        "version": 3
      },
      "file_extension": ".py",
      "mimetype": "text/x-python",
      "name": "python",
      "nbconvert_exporter": "python",
      "pygments_lexer": "ipython3",
      "version": "3.5.4"
    },
    "colab": {
      "name": "1.02_ManipulatingDNAStrings-start.ipynb",
      "provenance": [],
      "include_colab_link": true
    }
  },
  "cells": [
    {
      "cell_type": "markdown",
      "metadata": {
        "id": "view-in-github",
        "colab_type": "text"
      },
      "source": [
        "<a href=\"https://colab.research.google.com/github/Wan-Shi-Tong-bi/5Ws/blob/main/colab/1.02_ManipulatingDNAStrings-start.ipynb\" target=\"_parent\"><img src=\"https://colab.research.google.com/assets/colab-badge.svg\" alt=\"Open In Colab\"/></a>"
      ]
    },
    {
      "cell_type": "code",
      "metadata": {
        "id": "PHVHhjjIN0d7",
        "colab": {
          "base_uri": "https://localhost:8080/",
          "height": 36
        },
        "outputId": "473da2aa-9e6f-4891-9fbf-a5eaa80f1589"
      },
      "source": [
        "# Write a function to get the longest common prefix of 2 dna strings\n",
        "def longestCommonPrefix(s1, s2):\n",
        "  for i in range(len(s1)):\n",
        "    try:\n",
        "      if s2[i] != s1[i]: return s1[:i]\n",
        "    except: return s1[:i]\n",
        "  return s1[:len(s1)]\n",
        "longestCommonPrefix('ACCCATTG', 'ACCCATT')"
      ],
      "execution_count": 5,
      "outputs": [
        {
          "output_type": "execute_result",
          "data": {
            "application/vnd.google.colaboratory.intrinsic+json": {
              "type": "string"
            },
            "text/plain": [
              "'ACCCATT'"
            ]
          },
          "metadata": {},
          "execution_count": 5
        }
      ]
    },
    {
      "cell_type": "code",
      "metadata": {
        "id": "HqOlPJ5HN0eE",
        "colab": {
          "base_uri": "https://localhost:8080/"
        },
        "outputId": "930f9436-3d52-4baa-914a-67a864f104cc"
      },
      "source": [
        "def match(s1, s2):\n",
        "    if not len(s1) == len(s2):\n",
        "        return False\n",
        "    for i in range(0, len(s1)):\n",
        "        if not s1 == s2:\n",
        "            return False\n",
        "    return True\n",
        "match('ACCATTG', 'ACCATTG')"
      ],
      "execution_count": 6,
      "outputs": [
        {
          "output_type": "execute_result",
          "data": {
            "text/plain": [
              "True"
            ]
          },
          "metadata": {},
          "execution_count": 6
        }
      ]
    },
    {
      "cell_type": "code",
      "metadata": {
        "id": "QdVsn99CN0eG",
        "colab": {
          "base_uri": "https://localhost:8080/"
        },
        "outputId": "8bf17234-152b-497b-cf12-8fb309397e5a"
      },
      "source": [
        "'ACCATTG' == 'ACCATTG'"
      ],
      "execution_count": 7,
      "outputs": [
        {
          "output_type": "execute_result",
          "data": {
            "text/plain": [
              "True"
            ]
          },
          "metadata": {},
          "execution_count": 7
        }
      ]
    },
    {
      "cell_type": "code",
      "metadata": {
        "collapsed": true,
        "id": "F_MzAugHN0eI"
      },
      "source": [
        "complement = {'A': 'T', 'C': 'G', 'G': 'C', 'T': 'A'}"
      ],
      "execution_count": 8,
      "outputs": []
    },
    {
      "cell_type": "code",
      "metadata": {
        "id": "TjBdQpkSN0eJ",
        "colab": {
          "base_uri": "https://localhost:8080/",
          "height": 36
        },
        "outputId": "395695a2-cd69-46d6-aa22-84ee40ab9fa6"
      },
      "source": [
        "complement['A']"
      ],
      "execution_count": 9,
      "outputs": [
        {
          "output_type": "execute_result",
          "data": {
            "application/vnd.google.colaboratory.intrinsic+json": {
              "type": "string"
            },
            "text/plain": [
              "'T'"
            ]
          },
          "metadata": {},
          "execution_count": 9
        }
      ]
    },
    {
      "cell_type": "code",
      "metadata": {
        "id": "-NT3qqiAN0eL",
        "colab": {
          "base_uri": "https://localhost:8080/",
          "height": 36
        },
        "outputId": "21d5675a-726f-4522-f928-27804a51d6e2"
      },
      "source": [
        "complement['C']"
      ],
      "execution_count": 10,
      "outputs": [
        {
          "output_type": "execute_result",
          "data": {
            "application/vnd.google.colaboratory.intrinsic+json": {
              "type": "string"
            },
            "text/plain": [
              "'G'"
            ]
          },
          "metadata": {},
          "execution_count": 10
        }
      ]
    },
    {
      "cell_type": "code",
      "metadata": {
        "id": "rudBxTl-N0eN",
        "colab": {
          "base_uri": "https://localhost:8080/",
          "height": 36
        },
        "outputId": "da490cea-a038-4c9d-fba8-d47a3a2643c9"
      },
      "source": [
        "# Write a function the generates the reverse complement of a given dna string, using the complement dictionary\n",
        "def reverseComplement(s):\n",
        "  return \"\".join([complement[ele] for ele in reversed(s)])\n",
        "reverseComplement('ACCATTG')"
      ],
      "execution_count": 12,
      "outputs": [
        {
          "output_type": "execute_result",
          "data": {
            "application/vnd.google.colaboratory.intrinsic+json": {
              "type": "string"
            },
            "text/plain": [
              "'CAATGGT'"
            ]
          },
          "metadata": {},
          "execution_count": 12
        }
      ]
    },
    {
      "cell_type": "code",
      "metadata": {
        "id": "IPjHKdfgN0eO",
        "colab": {
          "base_uri": "https://localhost:8080/"
        },
        "outputId": "8404b1b5-da47-49ca-e122-d2f9acaaab0b"
      },
      "source": [
        "import unittest\n",
        "class TestNotebook(unittest.TestCase):    \n",
        "    def test_notebook(self):\n",
        "        self.assertEquals(longestCommonPrefix('ACCATTG', 'ACCAAGTC'), 'ACCA')\n",
        "        self.assertEquals(reverseComplement('ACCATTG'), 'CAATGGT')\n",
        "        \n",
        "unittest.main(argv=[''], verbosity=2, exit=False)"
      ],
      "execution_count": null,
      "outputs": [
        {
          "output_type": "stream",
          "name": "stderr",
          "text": [
            "test_notebook (__main__.TestNotebook) ... /usr/local/lib/python3.7/dist-packages/ipykernel_launcher.py:4: DeprecationWarning: Please use assertEqual instead.\n",
            "  after removing the cwd from sys.path.\n",
            "ERROR\n",
            "\n",
            "======================================================================\n",
            "ERROR: test_notebook (__main__.TestNotebook)\n",
            "----------------------------------------------------------------------\n",
            "Traceback (most recent call last):\n",
            "  File \"<ipython-input-2-525f4a6f2317>\", line 5, in test_notebook\n",
            "    self.assertEquals(reverseComplement('ACCATTG'), 'CAATGGT')\n",
            "NameError: name 'reverseComplement' is not defined\n",
            "\n",
            "----------------------------------------------------------------------\n",
            "Ran 1 test in 0.005s\n",
            "\n",
            "FAILED (errors=1)\n"
          ]
        },
        {
          "output_type": "execute_result",
          "data": {
            "text/plain": [
              "<unittest.main.TestProgram at 0x7f0cc1897f10>"
            ]
          },
          "metadata": {},
          "execution_count": 2
        }
      ]
    }
  ]
}