{
  "cells": [
    {
      "cell_type": "markdown",
      "metadata": {
        "id": "view-in-github",
        "colab_type": "text"
      },
      "source": [
        "<a href=\"https://colab.research.google.com/github/Wan-Shi-Tong-bi/5Ws/blob/main/colab/4.02_GreedySCS.ipynb\" target=\"_parent\"><img src=\"https://colab.research.google.com/assets/colab-badge.svg\" alt=\"Open In Colab\"/></a>"
      ]
    },
    {
      "cell_type": "markdown",
      "metadata": {
        "id": "RH7W42hfa2SR"
      },
      "source": [
        "# Shortest Common Superstring Problem\n",
        "## Greedy Shortest Common Super String\n",
        "\n",
        "Greedy Algorithms decide at each stage which alternative reduces problem complexity most."
      ]
    },
    {
      "cell_type": "code",
      "execution_count": 1,
      "metadata": {
        "collapsed": true,
        "id": "3AZ8Xjraa2ST"
      },
      "outputs": [],
      "source": [
        "def overlap(a, b, min_length=3):\n",
        "    \"\"\" Return length of longest suffix of 'a' matching\n",
        "        a prefix of 'b' that is at least 'min_length'\n",
        "        characters long.  If no such overlap exists,\n",
        "        return 0. \"\"\"\n",
        "    start = 0  # start all the way at the left\n",
        "    while True:\n",
        "      start = a.find(b[:min_length],start)\n",
        "      if start == -1:\n",
        "        return 0\n",
        "      if b.startswith(a[start:]):\n",
        "        return len(a) - start\n",
        "      start += 1"
      ]
    },
    {
      "cell_type": "code",
      "execution_count": 2,
      "metadata": {
        "collapsed": true,
        "id": "haxc7_5-a2SU"
      },
      "outputs": [],
      "source": [
        "import itertools\n",
        "\n",
        "def scs(ss):\n",
        "    \"\"\" Returns shortest common superstring of given strings,\n",
        "        assuming no string is a strict substring of another \"\"\"\n",
        "    shortest_sup = None\n",
        "    for ssperm in itertools.permutations(ss):\n",
        "        sup = ssperm[0]  # superstring starts as first string\n",
        "        for i in range(len(ss)-1):\n",
        "            # overlap adjacent strings A and B in the permutation\n",
        "          olen = overlap(ssperm[i], ssperm[i+1], min_length=1)\n",
        "            # add non-overlapping portion of B to superstring\n",
        "        sup += ssperm[i+1][olen:]\n",
        "        \n",
        "        if shortest_sup is None or len(sup) < len(shortest_sup):\n",
        "            shortest_sup = sup  # found shorter superstring\n",
        "        \n",
        "    return shortest_sup  # return shortest"
      ]
    },
    {
      "cell_type": "code",
      "execution_count": 3,
      "metadata": {
        "collapsed": true,
        "id": "_A_alZ8Za2SV"
      },
      "outputs": [],
      "source": [
        "def pick_maximal_overlap(reads, k):\n",
        "    \"\"\" Return a pair of reads from the list with a\n",
        "        maximal suffix/prefix overlap >= k.  Returns\n",
        "        overlap length 0 if there are no such overlaps.\"\"\"\n",
        "    reada, readb = None, None\n",
        "    best_olen = 0\n",
        "    for a, b in itertools.permutations(reads, 2):\n",
        "        olen = overlap(a, b, min_length=k)\n",
        "        if olen > best_olen:\n",
        "            reada, readb = a, b\n",
        "            best_olen = olen\n",
        "    return reada, readb, best_olen"
      ]
    },
    {
      "cell_type": "code",
      "execution_count": 4,
      "metadata": {
        "collapsed": true,
        "id": "4riXofzIa2SW"
      },
      "outputs": [],
      "source": [
        "def greedy_scs(reads, k):\n",
        "    \"\"\" Greedy shortest-common-superstring merge.\n",
        "        Repeat until no edges (overlaps of length >= k)\n",
        "        remain. \"\"\"\n",
        "    read_a, read_b, olen = pick_maximal_overlap(reads, k)\n",
        "    while olen > 0:\n",
        "        reads.remove(read_a)\n",
        "        reads.remove(read_b)\n",
        "        reads.append(read_a + read_b[olen:])\n",
        "        read_a, read_b, olen = pick_maximal_overlap(reads, k)\n",
        "    return ''.join(reads)"
      ]
    },
    {
      "cell_type": "code",
      "execution_count": 5,
      "metadata": {
        "colab": {
          "base_uri": "https://localhost:8080/",
          "height": 70
        },
        "id": "WhXfMKiCa2SW",
        "outputId": "0250c931-6e96-46d6-e6b0-7417aab30984"
      },
      "outputs": [
        {
          "output_type": "stream",
          "name": "stdout",
          "text": [
            "CPU times: user 37 µs, sys: 0 ns, total: 37 µs\n",
            "Wall time: 40.5 µs\n"
          ]
        },
        {
          "output_type": "execute_result",
          "data": {
            "text/plain": [
              "'CABCA'"
            ],
            "application/vnd.google.colaboratory.intrinsic+json": {
              "type": "string"
            }
          },
          "metadata": {},
          "execution_count": 5
        }
      ],
      "source": [
        "%%time\n",
        "greedy_scs(['ABC', 'BCA', 'CAB'], 2)"
      ]
    },
    {
      "cell_type": "code",
      "execution_count": 6,
      "metadata": {
        "colab": {
          "base_uri": "https://localhost:8080/",
          "height": 70
        },
        "id": "Jk3O81U6a2SX",
        "outputId": "5592d54f-a8db-4bc3-a771-b3ba919bf61e"
      },
      "outputs": [
        {
          "output_type": "stream",
          "name": "stdout",
          "text": [
            "CPU times: user 30 µs, sys: 5 µs, total: 35 µs\n",
            "Wall time: 39.3 µs\n"
          ]
        },
        {
          "output_type": "execute_result",
          "data": {
            "text/plain": [
              "'CDBCABCDA'"
            ],
            "application/vnd.google.colaboratory.intrinsic+json": {
              "type": "string"
            }
          },
          "metadata": {},
          "execution_count": 6
        }
      ],
      "source": [
        "%%time\n",
        "greedy_scs(['ABCD', 'CDBC', 'BCDA'], 1)"
      ]
    },
    {
      "cell_type": "code",
      "execution_count": 7,
      "metadata": {
        "colab": {
          "base_uri": "https://localhost:8080/",
          "height": 70
        },
        "id": "e_0EiF2pa2SY",
        "outputId": "95a67f2b-e148-4c92-8721-e4577c2004ea"
      },
      "outputs": [
        {
          "output_type": "stream",
          "name": "stdout",
          "text": [
            "CPU times: user 44 µs, sys: 8 µs, total: 52 µs\n",
            "Wall time: 56.5 µs\n"
          ]
        },
        {
          "output_type": "execute_result",
          "data": {
            "text/plain": [
              "'CDBCA'"
            ],
            "application/vnd.google.colaboratory.intrinsic+json": {
              "type": "string"
            }
          },
          "metadata": {},
          "execution_count": 7
        }
      ],
      "source": [
        "%%time\n",
        "scs(['ABCD', 'CDBC', 'BCDA'])"
      ]
    }
  ],
  "metadata": {
    "kernelspec": {
      "display_name": "Python 2",
      "language": "python",
      "name": "python2"
    },
    "language_info": {
      "codemirror_mode": {
        "name": "ipython",
        "version": 2
      },
      "file_extension": ".py",
      "mimetype": "text/x-python",
      "name": "python",
      "nbconvert_exporter": "python",
      "pygments_lexer": "ipython2",
      "version": "2.7.12"
    },
    "colab": {
      "name": "4.02_GreedySCS.ipynb",
      "provenance": [],
      "include_colab_link": true
    }
  },
  "nbformat": 4,
  "nbformat_minor": 0
}