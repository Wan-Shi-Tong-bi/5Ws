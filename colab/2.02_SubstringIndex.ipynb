{
  "cells": [
    {
      "cell_type": "markdown",
      "metadata": {
        "id": "view-in-github",
        "colab_type": "text"
      },
      "source": [
        "<a href=\"https://colab.research.google.com/github/Wan-Shi-Tong-bi/5Ws/blob/main/colab/2.02_SubstringIndex.ipynb\" target=\"_parent\"><img src=\"https://colab.research.google.com/assets/colab-badge.svg\" alt=\"Open In Colab\"/></a>"
      ]
    },
    {
      "cell_type": "markdown",
      "metadata": {
        "id": "hDRGwHYiKqBD"
      },
      "source": [
        "# Substring Index\n",
        "We want to build an Index with Bisect library"
      ]
    },
    {
      "cell_type": "code",
      "execution_count": 3,
      "metadata": {
        "collapsed": true,
        "id": "ga8Jcc5RKqBF"
      },
      "outputs": [],
      "source": [
        "import bisect\n",
        "import sys"
      ]
    },
    {
      "cell_type": "code",
      "execution_count": 4,
      "metadata": {
        "collapsed": true,
        "id": "fwDXQ5-IKqBI"
      },
      "outputs": [],
      "source": [
        "'''Index Class'''\n",
        "class Index(object):\n",
        "    def __init__(self, t, k):\n",
        "        ''' Constructor: Create index from all substrings of size 'k'\n",
        "        param t: Text on which the index will be created\n",
        "        param k: length of the substring index'''\n",
        "        # class properties\n",
        "        self.k = k \n",
        "        self.index = []\n",
        "        # build k-mer index and append substring to index list\n",
        "        for i in range(len(t) - k + 1):  \n",
        "            self.index.append((t[i:i+k], i))  \n",
        "        # alphabetize by k-mer for using bisect\n",
        "        self.index.sort()  \n",
        "    \n",
        "    def query(self, p):\n",
        "        ''' Return index hits for first k-mer of P \n",
        "        param p: search pattern\n",
        "        returns: 1st index hit for p in index'''\n",
        "        # query with first k-mer of pattern p\n",
        "        # select kmer of pattern p\n",
        "        kmer = p[:self.k]\n",
        "        # do binary search in index\n",
        "        i = bisect.bisect_left(self.index, (kmer, -1))\n",
        "        hits = []\n",
        "        # collect matching index entries\n",
        "        while i < len(self.index):  \n",
        "            if self.index[i][0] != kmer:\n",
        "                break\n",
        "            hits.append(self.index[i][1])\n",
        "            i += 1\n",
        "\n",
        "        return hits"
      ]
    },
    {
      "cell_type": "code",
      "execution_count": 5,
      "metadata": {
        "collapsed": true,
        "id": "dCVoKcZnKqBJ"
      },
      "outputs": [],
      "source": [
        "def queryIndex(p, t, index):\n",
        "    \"\"\"Queries the index for pattern p in text t, using the index-object\"\"\"\n",
        "    k = index.k\n",
        "    offsets = []\n",
        "    for i in index.query(p):\n",
        "      if p[k:] == t[i+k:i+len(p)]: \n",
        "            offsets.append(i)\n",
        "    return offsets"
      ]
    },
    {
      "cell_type": "code",
      "execution_count": 6,
      "metadata": {
        "collapsed": true,
        "id": "SKkvN8KuKqBJ"
      },
      "outputs": [],
      "source": [
        "t = 'ACTTGGAGATCTTTGAGGCTAGGTATTCGGGATCGAAGCTCATTTCGGGGATCGATTACGATATGGTGGGTATTCGGGA'\n",
        "p = 'GGTATTCGGGA'"
      ]
    },
    {
      "cell_type": "code",
      "execution_count": 7,
      "metadata": {
        "id": "q-B6yIJLKqBK",
        "outputId": "df6d4999-95a8-45a0-a174-98bc6054846f",
        "colab": {
          "base_uri": "https://localhost:8080/"
        }
      },
      "outputs": [
        {
          "output_type": "stream",
          "name": "stdout",
          "text": [
            "[21, 68]\n"
          ]
        }
      ],
      "source": [
        "index = Index(t, 4)\n",
        "print(queryIndex(p, t, index))"
      ]
    },
    {
      "cell_type": "markdown",
      "metadata": {
        "id": "Zvq_gnw0KqBM"
      },
      "source": [
        "## Unit Tests"
      ]
    },
    {
      "cell_type": "code",
      "execution_count": 8,
      "metadata": {
        "collapsed": true,
        "id": "2VBAWsgsKqBM"
      },
      "outputs": [],
      "source": [
        "import unittest"
      ]
    },
    {
      "cell_type": "code",
      "execution_count": 9,
      "metadata": {
        "collapsed": true,
        "id": "_n_NuJV4KqBN"
      },
      "outputs": [],
      "source": [
        "class MyTest(unittest.TestCase):\n",
        "    def setUp(self):\n",
        "        t = 'ACTTGGAGATCTTTGAGGCTAGGTATTCGGGATCGAAGCTCATTTCGGGGATCGATTACGATATGGTGGGTATTCGGGA'\n",
        "        p = 'GGTATTCGGGA'\n",
        "        \n",
        "    def testQueryIndex(self):\n",
        "        self.assertEqual([21, 68], queryIndex(p, t, index))"
      ]
    },
    {
      "cell_type": "code",
      "execution_count": 10,
      "metadata": {
        "id": "ayaqs2WYKqBO",
        "outputId": "8bac97ab-a08c-42dc-a9f6-e3ee9cdc75e9",
        "colab": {
          "base_uri": "https://localhost:8080/"
        }
      },
      "outputs": [
        {
          "output_type": "stream",
          "name": "stderr",
          "text": [
            ".\n",
            "----------------------------------------------------------------------\n",
            "Ran 1 test in 0.003s\n",
            "\n",
            "OK\n"
          ]
        },
        {
          "output_type": "execute_result",
          "data": {
            "text/plain": [
              "<unittest.runner.TextTestResult run=1 errors=0 failures=0>"
            ]
          },
          "metadata": {},
          "execution_count": 10
        }
      ],
      "source": [
        "suite = unittest.TestLoader().loadTestsFromTestCase( MyTest )\n",
        "unittest.TextTestRunner(verbosity=1,stream=sys.stderr).run( suite )"
      ]
    }
  ],
  "metadata": {
    "anaconda-cloud": {},
    "kernelspec": {
      "display_name": "Python 3",
      "language": "python",
      "name": "python3"
    },
    "language_info": {
      "codemirror_mode": {
        "name": "ipython",
        "version": 3
      },
      "file_extension": ".py",
      "mimetype": "text/x-python",
      "name": "python",
      "nbconvert_exporter": "python",
      "pygments_lexer": "ipython3",
      "version": "3.5.4"
    },
    "colab": {
      "name": "2.02_SubstringIndex.ipynb",
      "provenance": [],
      "include_colab_link": true
    }
  },
  "nbformat": 4,
  "nbformat_minor": 0
}