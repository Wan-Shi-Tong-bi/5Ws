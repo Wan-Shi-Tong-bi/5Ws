{
 "cells": [
  {
   "cell_type": "markdown",
   "metadata": {},
   "source": [
    "# NaiveExactMatching-MatchingRealReads"
   ]
  },
  {
   "cell_type": "code",
   "execution_count": null,
   "metadata": {},
   "outputs": [],
   "source": [
    "!wget http://d28rh4a8wq0iu5.cloudfront.net/ads1/data/phix.fa"
   ]
  },
  {
   "cell_type": "code",
   "execution_count": null,
   "metadata": {},
   "outputs": [],
   "source": [
    "import unittest\n",
    "import collections\n",
    "class TestMatchingArtificialReads(unittest.TestCase):\n",
    "    def test_readGenome(self):\n",
    "        self.assertEqual(len(readGenome('phix.fa')), 5386, 'length of genome string for file phix.fa is wrong! Correct length should be: 5386')\n",
    "    def test_naive(self):\n",
    "        self.assertEqual(naive('AG','AGCTTAGATAGC'), [0, 5, 9], 'Tested naive with parameters: p=\"AG\" and t=\"AGCTTAGATAGC\". Should return this list of occurences: [0, 5, 9]')\n",
    "    def test_generate_reads(self):\n",
    "        self.test_readGenome()\n",
    "        genome = readGenome('phix.fa')\n",
    "        reads = generateReads(genome, 100, 100)\n",
    "        self.assertEqual(len(reads), 100, 'Generated wrong number of reads! Should be 100 is {}'.format(len(reads)))\n",
    "        for read in reads:\n",
    "            self.assertEqual(len(read), 100, 'Read has wrong length. Should be 100 is {}'.format(len(read)))\n",
    "    def test_readFastq(self):\n",
    "        phix_reads = readFastq('ERR266411_1.first1000.fastq')\n",
    "        count = collections.Counter()\n",
    "        for read in phix_reads:\n",
    "            count.update(read)\n",
    "        self.assertEqual(count['T'], 30531, 'Count for T is wrong. Should be 30531 but is {}'.format(count['T']))\n",
    "        self.assertEqual(count['A'], 28426, 'Count for A is wrong. Should be 30531 but is {}'.format(count['A']))\n",
    "        self.assertEqual(count['C'], 21890, 'Count for C is wrong. Should be 30531 but is {}'.format(count['C']))\n",
    "        self.assertEqual(count['G'], 19147, 'Count for G is wrong. Should be 30531 but is {}'.format(count['G']))\n",
    "        self.assertEqual(count['N'], 6, 'Count for N is wrong. Should be 30531 but is {}'.format(count['N']))"
   ]
  },
  {
   "cell_type": "code",
   "execution_count": null,
   "metadata": {},
   "outputs": [],
   "source": [
    "def readGenome(filename):\n",
    "    \"\"\" Reads dna data from a given file\n",
    "    param: filename name of a fasta file\n",
    "    returns: dna data without the ids of the fasta file\n",
    "    rtype: string\n",
    "    \"\"\"\n",
    "    # copy from notebook 1.06\n",
    "    \n",
    "    return genome"
   ]
  },
  {
   "cell_type": "code",
   "execution_count": null,
   "metadata": {},
   "outputs": [],
   "source": [
    "phix_reads = readGenome('phix.fa')"
   ]
  },
  {
   "cell_type": "code",
   "execution_count": null,
   "metadata": {},
   "outputs": [],
   "source": [
    "def naive(p, t):\n",
    "    \"\"\"Implementation of a 'naive' pattern search in text t\n",
    "    param: p search-pattern\n",
    "    param: t text to search in\n",
    "    returns: list of occurences\n",
    "    \"\"\"\n",
    "    # copy from notebook 1.06\n",
    "    \n",
    "    return occurrences"
   ]
  },
  {
   "cell_type": "code",
   "execution_count": null,
   "metadata": {},
   "outputs": [],
   "source": [
    "import random\n",
    "def generateReads(genome, numReads, readLen):\n",
    "    \"\"\"Generate reads from random positions in the given genome.\n",
    "    param: genome dna data from which reads should be generated\n",
    "    param: numReads defines how many different reads are generated\n",
    "    param: readLen defines the length of each read\n",
    "    returns: list containing the generated reads\n",
    "    \"\"\"\n",
    "    # copy from notebook 1.06\n",
    "   \n",
    "    return reads"
   ]
  },
  {
   "cell_type": "code",
   "execution_count": null,
   "metadata": {},
   "outputs": [],
   "source": [
    "tests = TestMatchingArtificialReads()\n",
    "suite = unittest.TestSuite()\n",
    "suite.addTest(TestMatchingArtificialReads('test_readGenome'))\n",
    "suite.addTest(TestMatchingArtificialReads('test_naive'))\n",
    "suite.addTest(TestMatchingArtificialReads('test_generate_reads'))\n",
    "unittest.TextTestRunner().run(suite)"
   ]
  },
  {
   "cell_type": "code",
   "execution_count": null,
   "metadata": {},
   "outputs": [],
   "source": [
    "# Generate 100 reads of length 100\n",
    "reads = generateReads(genome, 100, 100)\n",
    "\n",
    "# Count how many reads match the genome exactly\n",
    "numMatched = 0\n",
    "for r in reads:\n",
    "    matches = naive(r, genome)\n",
    "    if len(matches) > 0:\n",
    "        numMatched += 1\n",
    "print('%d / %d reads matched the genome exactly!' % (numMatched, len(reads)))"
   ]
  },
  {
   "cell_type": "code",
   "execution_count": null,
   "metadata": {},
   "outputs": [],
   "source": [
    "# On Windows you have to manually download the file\n",
    "!wget http://d28rh4a8wq0iu5.cloudfront.net/ads1/data/ERR266411_1.first1000.fastq"
   ]
  },
  {
   "cell_type": "code",
   "execution_count": null,
   "metadata": {},
   "outputs": [],
   "source": [
    "def readFastq(filename):\n",
    "    \"\"\" Reads a FastQ File\n",
    "    param filename: name of the fastq file\n",
    "    returns: list containing all the dna sequences from the fastq file\n",
    "    \"\"\"\n",
    "    sequences = []\n",
    "   \n",
    "    return sequences"
   ]
  },
  {
   "cell_type": "code",
   "execution_count": null,
   "metadata": {},
   "outputs": [],
   "source": [
    "tests = TestMatchingArtificialReads()\n",
    "suite = unittest.TestSuite()\n",
    "suite.addTest(TestMatchingArtificialReads('test_readFastq'))\n",
    "unittest.TextTestRunner().run(suite)"
   ]
  },
  {
   "cell_type": "code",
   "execution_count": null,
   "metadata": {},
   "outputs": [],
   "source": [
    "numMatched = 0\n",
    "n = 0\n",
    "for r in phix_reads:\n",
    "    matches = naive(r, genome)\n",
    "    n += 1\n",
    "    if len(matches) > 0:\n",
    "        numMatched += 1\n",
    "print('%d / %d reads matched the genome exactly!' % (numMatched, n))"
   ]
  },
  {
   "cell_type": "code",
   "execution_count": null,
   "metadata": {},
   "outputs": [],
   "source": [
    "# Now let's try matching just the first 30 bases of each read\n",
    "numMatched = 0\n",
    "n = 0\n",
    "for r in phix_reads:\n",
    "    r = r[:30]  # just taking the first 30 bases\n",
    "    matches = naive(r, genome)\n",
    "    n += 1\n",
    "    if len(matches) > 0:\n",
    "        numMatched += 1\n",
    "print('%d / %d reads matched the genome exactly!' % (numMatched, n))"
   ]
  },
  {
   "cell_type": "code",
   "execution_count": null,
   "metadata": {},
   "outputs": [],
   "source": [
    "def reverseComplement(s):\n",
    "    complement = {'A': 'T', 'C': 'G', 'G': 'C', 'T': 'A', 'N': 'N'}\n",
    "    t = ''\n",
    "    for base in s:\n",
    "        t = complement[base] + t\n",
    "    return t"
   ]
  },
  {
   "cell_type": "code",
   "execution_count": null,
   "metadata": {},
   "outputs": [],
   "source": [
    "numMatched = 0\n",
    "n = 0\n",
    "for r in phix_reads:\n",
    "    r = r[:30]  # just taking the first 30 bases\n",
    "    matches = naive(r, genome)\n",
    "    matches.extend(naive(reverseComplement(r), genome))\n",
    "    n += 1\n",
    "    if len(matches) > 0:\n",
    "        numMatched += 1\n",
    "print('%d / %d reads matched the genome exactly!' % (numMatched, n))"
   ]
  },
  {
   "cell_type": "markdown",
   "metadata": {},
   "source": [
    "### Compare the different results on the matches!\n",
    "Think of the different numbers of matches and why these numbers arise. Make some notes! "
   ]
  }
 ],
 "metadata": {
  "kernelspec": {
   "display_name": "PyCharm (ai-tracer-dash)",
   "language": "python",
   "name": "pycharm-898b6f66"
  },
  "language_info": {
   "codemirror_mode": {
    "name": "ipython",
    "version": 3
   },
   "file_extension": ".py",
   "mimetype": "text/x-python",
   "name": "python",
   "nbconvert_exporter": "python",
   "pygments_lexer": "ipython3",
   "version": "3.7.7"
  },
  "toc": {
   "base_numbering": 1,
   "nav_menu": {},
   "number_sections": true,
   "sideBar": true,
   "skip_h1_title": false,
   "title_cell": "Table of Contents",
   "title_sidebar": "Contents",
   "toc_cell": false,
   "toc_position": {},
   "toc_section_display": true,
   "toc_window_display": false
  },
  "varInspector": {
   "cols": {
    "lenName": 16,
    "lenType": 16,
    "lenVar": 40
   },
   "kernels_config": {
    "python": {
     "delete_cmd_postfix": "",
     "delete_cmd_prefix": "del ",
     "library": "var_list.py",
     "varRefreshCmd": "print(var_dic_list())"
    },
    "r": {
     "delete_cmd_postfix": ") ",
     "delete_cmd_prefix": "rm(",
     "library": "var_list.r",
     "varRefreshCmd": "cat(var_dic_list()) "
    }
   },
   "types_to_exclude": [
    "module",
    "function",
    "builtin_function_or_method",
    "instance",
    "_Feature"
   ],
   "window_display": true
  }
 },
 "nbformat": 4,
 "nbformat_minor": 1
}
